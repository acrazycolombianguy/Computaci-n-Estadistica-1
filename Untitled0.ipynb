{
  "nbformat": 4,
  "nbformat_minor": 0,
  "metadata": {
    "colab": {
      "name": "Untitled0.ipynb",
      "provenance": []
    },
    "kernelspec": {
      "name": "python3",
      "display_name": "Python 3"
    },
    "language_info": {
      "name": "python"
    }
  },
  "cells": [
    {
      "cell_type": "markdown",
      "source": [
        "## Mi primer notebook GOOGLE COLABORATORY##"
      ],
      "metadata": {
        "id": "RHbDfjHZWUqp"
      }
    },
    {
      "cell_type": "markdown",
      "source": [
        "Aca podemos escribir dandole click en la opción \"+ texto\" o \" + codigo\""
      ],
      "metadata": {
        "id": "6puqiVY9WsXX"
      }
    },
    {
      "cell_type": "code",
      "source": [
        "# Este es un chunck de cogido\n",
        "\n",
        "print (1+2+3)"
      ],
      "metadata": {
        "colab": {
          "base_uri": "https://localhost:8080/"
        },
        "id": "BCUrYalMWzo0",
        "outputId": "494f8450-f60b-445b-af66-0dcca0149798"
      },
      "execution_count": 2,
      "outputs": [
        {
          "output_type": "stream",
          "name": "stdout",
          "text": [
            "6\n"
          ]
        }
      ]
    },
    {
      "cell_type": "markdown",
      "source": [
        "Tambien podemos escribir en #\\LaTeX$\n"
      ],
      "metadata": {
        "id": "aAW3HgbSXWMt"
      }
    },
    {
      "cell_type": "markdown",
      "source": [
        "Insertar ecuaciones desde Codecogs"
      ],
      "metadata": {
        "id": "eICTO47cX8n-"
      }
    },
    {
      "cell_type": "markdown",
      "source": [
        "\n",
        "Tambien podemos escribir ecuaciones \n",
        "$$ax+b+c=0$$\n",
        "**$$\\int_{-5}^{5} f(x) dx$$**\n"
      ],
      "metadata": {
        "id": "rtBbn6YfXcqZ"
      }
    },
    {
      "cell_type": "markdown",
      "source": [
        "Como atraer imagenes desde una pagina web\n",
        "\n",
        "\n",
        "![python](https://upload.wikimedia.org/wikipedia/commons/thumb/c/c3/Python-logo-notext.svg/800px-Python-logo-notext.svg.png)"
      ],
      "metadata": {
        "id": "JGScq2xpXsM4"
      }
    },
    {
      "cell_type": "markdown",
      "source": [
        "Como subir un archivo excel\n",
        "1. En el menu izquierdo abrir archivos \"files\"\n",
        "2. Conectar el \"Drive\" con google drive\n",
        "3. Buscar el archivo dentro de mi_drive\n",
        "4. Copiar el path\n",
        "En este ejemplo puede ser '/content/drive/MyDrive/Universidad/Semestre/2022-1/Computación estadistica/actividad 1 python.xlsx'"
      ],
      "metadata": {
        "id": "rV7HDhewYEpu"
      }
    },
    {
      "cell_type": "code",
      "source": [
        "ruta_archivo = '/content/drive/MyDrive/Universidad/Semestre/2022-1/Computación estadistica/actividad 1 python.xlsx'"
      ],
      "metadata": {
        "id": "Dmx03jA2bOPD"
      },
      "execution_count": null,
      "outputs": []
    },
    {
      "cell_type": "markdown",
      "source": [
        "# Asignación\n",
        "1. Crear un notebook en google colaboratory con las siguientes indicaciones:\n",
        "1.cARGAR UN ARCHIVO DE EXCEL con una ruta permanente en drive apoyarse en el modulo 'pandas'\n",
        "2. Colocar una imagen\n",
        "3. Escribir una matriz 4*4\n",
        "4. Como crear una tabla en latex\n",
        "5. Como copiar una ecuación estadistica en latex\n",
        "\n"
      ],
      "metadata": {
        "id": "H9DJGaoQbGG5"
      }
    }
  ]
}